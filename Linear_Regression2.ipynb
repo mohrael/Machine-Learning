{
  "nbformat": 4,
  "nbformat_minor": 0,
  "metadata": {
    "colab": {
      "provenance": [],
      "authorship_tag": "ABX9TyOSqNpzZMjmidQo6nfUhzDt",
      "include_colab_link": true
    },
    "kernelspec": {
      "name": "python3",
      "display_name": "Python 3"
    },
    "language_info": {
      "name": "python"
    }
  },
  "cells": [
    {
      "cell_type": "markdown",
      "metadata": {
        "id": "view-in-github",
        "colab_type": "text"
      },
      "source": [
        "<a href=\"https://colab.research.google.com/github/mohrael/Machine-Learning/blob/main/Linear_Regression2.ipynb\" target=\"_parent\"><img src=\"https://colab.research.google.com/assets/colab-badge.svg\" alt=\"Open In Colab\"/></a>"
      ]
    },
    {
      "cell_type": "code",
      "execution_count": 75,
      "metadata": {
        "id": "4h0ebtFqpLKP"
      },
      "outputs": [],
      "source": [
        "import pandas as pd\n",
        "import numpy as np\n",
        "import matplotlib.pyplot as plt\n",
        "from sklearn.model_selection import train_test_split\n",
        "from sklearn.utils import shuffle"
      ]
    },
    {
      "cell_type": "code",
      "source": [
        "import numpy as np\n",
        "\n",
        "class LinearRegression:\n",
        "    def __init__(self, learning_rate=0.01, n_iters=1000):\n",
        "        self.lr = learning_rate\n",
        "        self.n_iters = n_iters\n",
        "        self.weights = None\n",
        "        self.bias = None\n",
        "\n",
        "    def fit(self, x, y):\n",
        "        n_samples, n_features = x.shape\n",
        "        self.weights = np.zeros(n_features)\n",
        "        self.bias = 0\n",
        "\n",
        "        y=y.flatten()\n",
        "\n",
        "        for _ in range(self.n_iters):\n",
        "            y_predicted = np.dot(x, self.weights) + self.bias\n",
        "\n",
        "\n",
        "            # Compute gradients\n",
        "            dw = (1 / n_samples) * np.dot(x.T, (y_predicted - y))\n",
        "            db = (1 / n_samples) * np.sum(y_predicted - y)\n",
        "\n",
        "            # Update parameters\n",
        "            self.weights -= self.lr * dw\n",
        "            self.bias -= self.lr * db\n",
        "\n",
        "    def predict(self, X):\n",
        "        return np.dot(X, self.weights) + self.bias\n"
      ],
      "metadata": {
        "id": "lUQ9JFi5uWZ1"
      },
      "execution_count": 92,
      "outputs": []
    },
    {
      "cell_type": "code",
      "source": [
        "data = pd.read_csv('data.csv')\n",
        "\n",
        "data = shuffle(data)\n",
        "x = data['population'].to_numpy().reshape((-1,1))\n",
        "y = data['profit'].to_numpy().reshape((-1,1))\n"
      ],
      "metadata": {
        "id": "nEHB2yee1c6D"
      },
      "execution_count": 93,
      "outputs": []
    },
    {
      "cell_type": "code",
      "source": [
        "x_train, x_test, y_train, y_test = train_test_split(x, y, test_size=0.2,random_state=42)\n",
        "\n",
        "# Normalization\n",
        "x_min = x_train.min()\n",
        "x_max = x_train.max()\n",
        "x_train = (x_train - x_min) / (x_max - x_min)\n",
        "x_test = (x_test - x_min) / (x_max - x_min)\n"
      ],
      "metadata": {
        "id": "iYYdS33l1dEP"
      },
      "execution_count": 94,
      "outputs": []
    },
    {
      "cell_type": "code",
      "source": [
        "# Train model from scratch\n",
        "model = LinearRegression(learning_rate=0.1, n_iters=1000)\n",
        "model.fit(x_train, y_train)\n",
        "\n",
        "y_pred = model.predict(x_test)\n",
        "\n",
        "print(\"Accuracy: \",y_pred)\n"
      ],
      "metadata": {
        "colab": {
          "base_uri": "https://localhost:8080/"
        },
        "id": "VywicnEs2rxN",
        "outputId": "b1198e87-6e21-410d-a25d-aed083090526"
      },
      "execution_count": 96,
      "outputs": [
        {
          "output_type": "stream",
          "name": "stdout",
          "text": [
            "Accuracy:  [ 6.46111917  3.0012352   4.82602766  2.14991428  5.84243274  2.93310153\n",
            "  8.15116095  2.5078494  19.81321924  5.0741789   2.04071374  6.1015507\n",
            "  2.63000002  6.87505457  3.38542046  8.10682739 18.26737818  7.19402283\n",
            "  2.74445059  4.19439117]\n"
          ]
        }
      ]
    }
  ]
}